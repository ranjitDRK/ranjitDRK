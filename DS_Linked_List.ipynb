{
  "nbformat": 4,
  "nbformat_minor": 0,
  "metadata": {
    "colab": {
      "name": "DS-Linked List",
      "provenance": [],
      "collapsed_sections": [],
      "authorship_tag": "ABX9TyNDVBgJIObf6Djw4PmBGUag",
      "include_colab_link": true
    },
    "kernelspec": {
      "name": "python3",
      "display_name": "Python 3"
    },
    "language_info": {
      "name": "python"
    }
  },
  "cells": [
    {
      "cell_type": "markdown",
      "metadata": {
        "id": "view-in-github",
        "colab_type": "text"
      },
      "source": [
        "<a href=\"https://colab.research.google.com/github/ranjitDRK/ranjitDRK/blob/main/DS_Linked_List.ipynb\" target=\"_parent\"><img src=\"https://colab.research.google.com/assets/colab-badge.svg\" alt=\"Open In Colab\"/></a>"
      ]
    },
    {
      "cell_type": "code",
      "execution_count": 2,
      "metadata": {
        "colab": {
          "base_uri": "https://localhost:8080/"
        },
        "id": "E-oVD9-cJ7Qb",
        "outputId": "c4031e23-7b6b-47c8-d671-39cbd2e03adc"
      },
      "outputs": [
        {
          "output_type": "stream",
          "name": "stdout",
          "text": [
            "4\n",
            "2\n"
          ]
        }
      ],
      "source": [
        "class Node:\n",
        "  def __init__(self,value):\n",
        "    self.value=value\n",
        "    self.next=None\n",
        "\n",
        "class LinkedList:\n",
        "  def __init__(self,value):\n",
        "    new_node=Node(value)\n",
        "    self.head=new_node\n",
        "    self.tail=new_node\n",
        "    self.length=1\n",
        "\n",
        "  def print_list(self):\n",
        "    temp=self.head\n",
        "    while temp is not None:\n",
        "      print(temp.value)\n",
        "      temp=temp.next\n",
        "  def append(self,value):\n",
        "    new_node=Node(value)\n",
        "    if self.head is None:\n",
        "      self.head=new_node\n",
        "      self.tail=new_node\n",
        "    else:\n",
        "      self.tail.next=new_node\n",
        "      self.tail=new_node\n",
        "    self.length=+1\n",
        "\n",
        "\n",
        "my_linked_list=LinkedList(4)\n",
        "my_linked_list.append(2)\n",
        "my_linked_list.print_list()"
      ]
    }
  ]
}